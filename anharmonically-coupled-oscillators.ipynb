{
 "cells": [
  {
   "cell_type": "markdown",
   "id": "b7e8d7da-5060-4b3e-8e6d-4137e53a9aa8",
   "metadata": {},
   "source": [
    "## Plotting Anharmonically Coupled Oscillators"
   ]
  },
  {
   "cell_type": "markdown",
   "id": "779e4aad-3f85-4688-8ed2-930c03937df7",
   "metadata": {},
   "source": [
    "### ★ Resubmission Changes -\n",
    "- I'm not sure what happened to my original notebook - I just created this new one!"
   ]
  },
  {
   "cell_type": "code",
   "execution_count": 12,
   "id": "724c4325-1039-4aee-aa4a-e82936d06f69",
   "metadata": {},
   "outputs": [],
   "source": [
    "# Importing libraries -\n",
    "import numpy as np\n",
    "import matplotlib.pyplot as plt\n",
    "import ipywidgets as widgets\n",
    "from ipywidgets import interact, FloatSlider, IntSlider"
   ]
  },
  {
   "cell_type": "markdown",
   "id": "30b270da-1575-467f-8b84-e1fec74b4c54",
   "metadata": {},
   "source": [
    "#### Defining Potential Energy & Creating Baseline Plot"
   ]
  },
  {
   "cell_type": "code",
   "execution_count": 7,
   "id": "73106d64-5d42-499b-9a6d-ef9888233b97",
   "metadata": {},
   "outputs": [
    {
     "data": {
      "application/vnd.jupyter.widget-view+json": {
       "model_id": "cb35c79fc2ed49a9b8c33d4b871d2af7",
       "version_major": 2,
       "version_minor": 0
      },
      "text/plain": [
       "interactive(children=(FloatSlider(value=1.0, description='K1', max=10.0, min=0.1), FloatSlider(value=1.0, desc…"
      ]
     },
     "metadata": {},
     "output_type": "display_data"
    }
   ],
   "source": [
    "### Defining the expression for potential energy -\n",
    "\n",
    "def potential_energy(Q1, Q2, K1, K2, C):\n",
    "    return 0.5 * K1 * Q1**2 + 0.5 * K2 * Q2**2 + C * Q1 * Q2**2\n",
    "\n",
    "### Defining the plotting function for potential energy expression -\n",
    "\n",
    "def plot_potential_energy(K1=1, K2=1, C=1): ### Keeping K1, K2, C constant for now\n",
    "    Q1 = np.linspace(-10, 10, 100) # Grid for Q1\n",
    "    Q2 = np.linspace(-10, 10, 100) # Grid for Q2\n",
    "    Q1_grid, Q2_grid = np.meshgrid(Q1, Q2)\n",
    "\n",
    "    # Calculating potential energy -\n",
    "    U = potential_energy(Q1_grid, Q2_grid, K1, K2, C)\n",
    "\n",
    "    # Plotting contour plot -\n",
    "    plt.figure(figsize=(5, 4))\n",
    "    contourplot = plt.contourf(Q1, Q2, U, levels=100, cmap='pink')\n",
    "    plt.colorbar(contourplot, label='Potential Energy U(Q1, Q2)')\n",
    "    plt.xlabel('$Q_1$', fontsize=12)\n",
    "    plt.ylabel('$Q_2$', fontsize=12)\n",
    "    plt.title('Potential Energy Contour Plot')\n",
    "    plt.show()\n",
    "\n",
    "# Adding interactive sliders for varying K1, K2, and C -\n",
    "interact(plot_potential_energy,\n",
    "         K1=FloatSlider(min=0.1, max=10, step=0.1, value=1, description='K1'),\n",
    "         K2=FloatSlider(min=0.1, max=10, step=0.1, value=1, description='K2'),\n",
    "         C=FloatSlider(min=-5, max=5, step=0.1, value=1, description='C'));"
   ]
  },
  {
   "cell_type": "markdown",
   "id": "60fdbf1a-e644-4ddf-a826-2b1c45bdca9b",
   "metadata": {},
   "source": [
    "#### Plotting With Q2 = 0 and Fixed Q2 Values"
   ]
  },
  {
   "cell_type": "code",
   "execution_count": 20,
   "id": "0b53ac72-e727-4d22-b747-5d90d739e5ca",
   "metadata": {},
   "outputs": [
    {
     "data": {
      "application/vnd.jupyter.widget-view+json": {
       "model_id": "88ca5e3776eb44cfb97493dc4549d6bc",
       "version_major": 2,
       "version_minor": 0
      },
      "text/plain": [
       "interactive(children=(FloatSlider(value=1.0, description='K1', max=10.0, min=0.1), FloatSlider(value=1.0, desc…"
      ]
     },
     "metadata": {},
     "output_type": "display_data"
    }
   ],
   "source": [
    "# Plotting function for fixed Q2 values -\n",
    "def plot_fixed_Q2_lines(K1=1, K2=1, C=1):\n",
    "    Q1 = np.linspace(-10, 10, 500) # Same grid for Q1 as before\n",
    "    fixed_Q2_values = [-3, -2, -1, 0, 1, 2, 3] # Q2 values including negative, positive, and 0 vals\n",
    "\n",
    "    plt.figure(figsize=(5,4))\n",
    "    for Q2 in fixed_Q2_values:\n",
    "        U = potential_energy(Q1, Q2, K1, K2, C)\n",
    "        label = f\"$Q_2 = {Q2}$\"\n",
    "        plt.plot(Q1, U, label=label)\n",
    "\n",
    "    plt.xlabel('$Q_1$', fontsize=12)\n",
    "    plt.ylabel('Potential Energy $U(Q_1, Q_2)$', fontsize=12)\n",
    "    plt.title('Potential Energy for Fixed $Q_2$ Values')\n",
    "    plt.legend()\n",
    "    plt.grid(True)\n",
    "    plt.show()\n",
    "\n",
    "# Interactive sliders for varying K1, K2, and C -\n",
    "interact(plot_fixed_Q2_lines,\n",
    "         K1=FloatSlider(min=0.1, max=10, step=0.1, value=1, description='K1'),\n",
    "         K2=FloatSlider(min=0.1, max=10, step=0.1, value=1, description='K2'),\n",
    "         C=FloatSlider(min=-5, max=5, step=0.1, value=1, description='C'));"
   ]
  },
  {
   "cell_type": "markdown",
   "id": "2cfa58d7-2e79-4c08-a608-6d09f0353371",
   "metadata": {},
   "source": [
    "#### Plotting Both Graphs Together -"
   ]
  },
  {
   "cell_type": "code",
   "execution_count": 35,
   "id": "19d64bab-4411-49eb-98f7-5b486514649c",
   "metadata": {},
   "outputs": [
    {
     "data": {
      "application/vnd.jupyter.widget-view+json": {
       "model_id": "4251b1ed7a114f30a7496738adc8dd11",
       "version_major": 2,
       "version_minor": 0
      },
      "text/plain": [
       "interactive(children=(FloatSlider(value=1.0, description='K1', max=10.0, min=0.1), FloatSlider(value=1.0, desc…"
      ]
     },
     "metadata": {},
     "output_type": "display_data"
    }
   ],
   "source": [
    "# Defining the expression for potential energy -\n",
    "def potential_energy(Q1, Q2, K1, K2, C):\n",
    "    return 0.5 * K1 * Q1**2 + 0.5 * K2 * Q2**2 + C * Q1 * Q2**2\n",
    "\n",
    "# Combining the function for two side-by-side plots -\n",
    "def plot_combined(K1=1, K2=1, C=1):\n",
    "    Q1 = np.linspace(-10, 10, 100)  # Grid for Q1\n",
    "    Q2 = np.linspace(-10, 10, 100)  # Grid for Q2\n",
    "    Q1_grid, Q2_grid = np.meshgrid(Q1, Q2)\n",
    "\n",
    "    # Calculating potential energy for the contour plot -\n",
    "    U_contour = potential_energy(Q1_grid, Q2_grid, K1, K2, C)\n",
    "\n",
    "    # Creating grid for fixed Q2 lines -\n",
    "    Q1_line = np.linspace(-10, 10, 500)\n",
    "    fixed_Q2_values = [-3, -2, -1, 0, 1, 2, 3]\n",
    "\n",
    "    # Creating two subplots -\n",
    "    plt.figure(figsize=(12, 5))\n",
    "\n",
    "    # Contour plot on the left -\n",
    "    plt.subplot(1, 2, 1)\n",
    "    contourplot = plt.contourf(Q1, Q2, U_contour, levels=100, cmap='pink')\n",
    "    plt.colorbar(contourplot, label='Potential Energy U(Q1, Q2)')\n",
    "    plt.xlabel('$Q_1$', fontsize=12)\n",
    "    plt.ylabel('$Q_2$', fontsize=12)\n",
    "    plt.title('Potential Energy Contour Plot')\n",
    "\n",
    "    # Fixed Q2 lines plot on the right -\n",
    "    plt.subplot(1, 2, 2)\n",
    "    for Q2 in fixed_Q2_values:\n",
    "        U_line = potential_energy(Q1_line, Q2, K1, K2, C)\n",
    "        label = f\"$Q_2 = {Q2}$\"\n",
    "        plt.plot(Q1_line, U_line, label=label)\n",
    "\n",
    "    plt.xlabel('$Q_1$', fontsize=12)\n",
    "    plt.ylabel('Potential Energy $U(Q_1, Q_2)$', fontsize=12)\n",
    "    plt.title('Potential Energy for Fixed $Q_2$ Values')\n",
    "    plt.legend()\n",
    "    plt.grid(True)\n",
    "\n",
    "    plt.tight_layout()\n",
    "    plt.show()\n",
    "\n",
    "# Interactive sliders for varying K1, K2, and C -\n",
    "interact(plot_combined,\n",
    "         K1=FloatSlider(min=0.1, max=10, step=0.1, value=1, description='K1'),\n",
    "         K2=FloatSlider(min=0.1, max=10, step=0.1, value=1, description='K2'),\n",
    "         C=FloatSlider(min=-5, max=5, step=0.1, value=1, description='C'));"
   ]
  },
  {
   "cell_type": "markdown",
   "id": "198076c8-c097-4eae-bf96-41d5e0f1240b",
   "metadata": {},
   "source": [
    "#### Questions -"
   ]
  },
  {
   "cell_type": "markdown",
   "id": "e0555007-16a8-4341-913d-812f13cbcb8c",
   "metadata": {},
   "source": [
    "1. As you increase C, how do the low-energy contours start to change?\n",
    "    - As C increases to become non-zero, the contour plot starts to distort from its original circular pattern, as the coupling term of the anharmonic oscillator is introduced. For example, when C = 0.5 (and K1 and K2 are kept at a constant of 1), the contour plot shows minimal potential energy in the top-left and bottom-left corners, where either Q1 or Q2 is negative, and shows maximum potential energy in the top-right and bottom-right corners, where either Q1 or Q2 is positive.\n",
    "  \n",
    "2. Does the force on Q1 depend on the direction of Q2?\n",
    "    - Yes, the force on Q1 depends on the direction of Q2, as long as the constant C is non-zero- when Q1 and Q2 are coupled together, the force on both Q1 and Q2 are effected by each other (when the constant C is zero, Q1 and Q2 are seperate and unaltered by the direction of each other, because of the absence of the coupling term).\n",
    "  \n",
    "3. What do you expect the influence of driving Q2 to be on the motion of Q1?\n",
    "    - When Q2 is driven, Q1 will move away from equilibrium as well due to the coupling term- this will cause Q1 to be pushed away from its minimum potential energy and oscillate.\n",
    "  \n",
    "4. If Q1 is kicked away from equilibrium, what do you expect its effects to be on Q2?\n",
    "    - Similarly to how driving Q2 moves away from equilibrium when Q2 is moved, the same is true for Q1 moving away from equilibrium and its effect on Q2 - because these terms are coupled together (as long as the constant C is nonzero), if either one is moved away from equilibrium, the other one will be as well."
   ]
  }
 ],
 "metadata": {
  "kernelspec": {
   "display_name": "Python 3 (ipykernel)",
   "language": "python",
   "name": "python3"
  },
  "language_info": {
   "codemirror_mode": {
    "name": "ipython",
    "version": 3
   },
   "file_extension": ".py",
   "mimetype": "text/x-python",
   "name": "python",
   "nbconvert_exporter": "python",
   "pygments_lexer": "ipython3",
   "version": "3.9.19"
  }
 },
 "nbformat": 4,
 "nbformat_minor": 5
}
