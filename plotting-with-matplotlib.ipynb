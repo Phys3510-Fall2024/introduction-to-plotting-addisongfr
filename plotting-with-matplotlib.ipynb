{
 "cells": [
  {
   "cell_type": "markdown",
   "id": "d808c997-5323-46bd-bfb0-08fdbaa50828",
   "metadata": {},
   "source": [
    "## Plotting in Python with `matplotlib`\n",
    "\n",
    "Let's look through the basics of plotting in Python using `matplotlib`, one of the most popular plotting libraries. \n",
    "\n",
    "`matplotlib` allows you to create a range of static, animated, and interactive plots in Python. It's highly customizable and works well with libraries like `numpy` for handling numerical data.\n",
    "\n",
    "We'll start with 2D plots in this notebook, and move to other plotting styles (3D, contour...) in another notebook.\n",
    "\n",
    "For further reading and more advanced usage, you can check out the [Matplotlib documentation](https://matplotlib.org/stable/contents.html).\n",
    "\n",
    "\n",
    "### Step 1: Importing the Necessary Modules\n",
    "\n",
    "We will use two main libraries:\n",
    "- `matplotlib.pyplot` for creating plots\n",
    "- `numpy` for numerical operations and generating ranges of values\n",
    "\n",
    "Let's import them.\n"
   ]
  },
  {
   "cell_type": "code",
   "execution_count": 9,
   "id": "62e8eb9d-354d-482b-81d6-41aeb4c29433",
   "metadata": {},
   "outputs": [],
   "source": [
    "# Importing matplotlib and numpy\n",
    "import matplotlib.pyplot as plt\n",
    "import numpy as np"
   ]
  },
  {
   "cell_type": "markdown",
   "id": "ffa738f9-3fee-486a-99ed-aa13eaa27aa5",
   "metadata": {},
   "source": [
    "### Step 1b: Choosing a style (optional)\n",
    "\n",
    "You can explore different plotting styles using `plt.style.available`."
   ]
  },
  {
   "cell_type": "code",
   "execution_count": 8,
   "id": "63948e7f-dfb0-4424-9f53-50582ab4468c",
   "metadata": {},
   "outputs": [
    {
     "name": "stdout",
     "output_type": "stream",
     "text": [
      "['Solarize_Light2', '_classic_test_patch', '_mpl-gallery', '_mpl-gallery-nogrid', 'bmh', 'classic', 'dark_background', 'fast', 'fivethirtyeight', 'ggplot', 'grayscale', 'seaborn-v0_8', 'seaborn-v0_8-bright', 'seaborn-v0_8-colorblind', 'seaborn-v0_8-dark', 'seaborn-v0_8-dark-palette', 'seaborn-v0_8-darkgrid', 'seaborn-v0_8-deep', 'seaborn-v0_8-muted', 'seaborn-v0_8-notebook', 'seaborn-v0_8-paper', 'seaborn-v0_8-pastel', 'seaborn-v0_8-poster', 'seaborn-v0_8-talk', 'seaborn-v0_8-ticks', 'seaborn-v0_8-white', 'seaborn-v0_8-whitegrid', 'tableau-colorblind10']\n"
     ]
    }
   ],
   "source": [
    "# see available styles\n",
    "print(plt.style.available)"
   ]
  },
  {
   "cell_type": "markdown",
   "id": "b9363c00-4deb-4729-a90a-b643677d1145",
   "metadata": {},
   "source": [
    "You can explore the `matplotlib` style templates [here](http://tonysyu.github.io/raw_content/matplotlib-style-gallery/gallery.html).\n",
    "\n",
    "For now, let's just pick one, or skip this step. Your choice. I am using the seaborn pastel style."
   ]
  },
  {
   "cell_type": "code",
   "execution_count": 7,
   "id": "9c19a85d-0f41-483f-ad69-7da1da77be13",
   "metadata": {},
   "outputs": [],
   "source": [
    "# choose a specific style\n",
    "plt.style.use('seaborn-v0_8-pastel')  # This is optional; feel free to change or remove it."
   ]
  },
  {
   "cell_type": "markdown",
   "id": "32f2002a-e0e9-4273-8b1a-5747f27d1227",
   "metadata": {},
   "source": [
    "### Step 2: How to Use `np.linspace` and What It Does\n",
    "\n",
    "`np.linspace` is a function in `numpy` that generates evenly spaced numbers over a specified range. You specify:\n",
    "- The start and stop values\n",
    "- The number of points you'd like to generate\n",
    "\n",
    "This is useful for creating a set of x-values for plotting continuous functions like lines, sine waves, or parabolas.\n",
    "\n",
    "For example, we can generate 3 points between 0 and 10 using `np.linspace(0, 10, 3)`.\n"
   ]
  },
  {
   "cell_type": "code",
   "execution_count": 6,
   "id": "165a5c82-d18a-4398-80c7-9c786b0e08fc",
   "metadata": {},
   "outputs": [
    {
     "name": "stdout",
     "output_type": "stream",
     "text": [
      "[ 0.  5. 10.]\n"
     ]
    }
   ],
   "source": [
    "# Generating a set of x values using np.linspace\n",
    "x = np.linspace(0, 10, 3)\n",
    "\n",
    "print(x)"
   ]
  },
  {
   "cell_type": "markdown",
   "id": "5e712b02-3b6a-402c-a33f-d70ed46f9d2f",
   "metadata": {},
   "source": [
    "### Step 3: How to Define a Parabola Function\n",
    "\n",
    "For now, we'll focus on a single function: a **parabola**. The equation for a parabola is \\( y = x^2 \\).\n",
    "\n",
    "We'll define a Python function that takes `x` as input and returns the corresponding `y` values.\n"
   ]
  },
  {
   "cell_type": "code",
   "execution_count": null,
   "id": "933d029e-32f3-479a-929a-e7768ab14d5a",
   "metadata": {},
   "outputs": [],
   "source": [
    "# Define a parabola function\n",
    "def parabola(x):\n",
    "    return x**2\n",
    "\n",
    "# Generate y-values for the parabola using the x-values from np.linspace\n",
    "y_parabola = parabola(x)\n",
    "\n",
    "print(y_parabola)"
   ]
  },
  {
   "cell_type": "markdown",
   "id": "f1f1e8f1-5851-4a5b-91ce-98d05b7b1645",
   "metadata": {},
   "source": [
    "Let's look at the x and y values side-by-side."
   ]
  },
  {
   "cell_type": "code",
   "execution_count": null,
   "id": "c9279a2e-114f-42e2-8f36-d705c52f1672",
   "metadata": {},
   "outputs": [],
   "source": [
    "# try this line with and without np.transpose to see the difference \n",
    "# print([x,y_parabola])\n",
    "print(np.transpose([x,y_parabola]))"
   ]
  },
  {
   "cell_type": "markdown",
   "id": "a50560c4-f47a-4a3f-abe3-d82b4182e539",
   "metadata": {},
   "source": [
    "### Step 4: How to Plot with `plt.plot()`\n",
    "\n",
    "To create a basic plot, we use the `plt.plot()` function. It takes in the x-values and y-values as arguments and plots them as a continuous line.\n",
    "\n",
    "- `plt.plot(x, y)`: Plots the line, where `x` is the data for the x-axis and `y` is the data for the y-axis.\n",
    "- `plt.show()`: Displays the plot in the output.\n",
    "\n",
    "Let's create a simple plot of our parabola using `plt.plot()`.\n"
   ]
  },
  {
   "cell_type": "code",
   "execution_count": null,
   "id": "8121610a-f97b-4f40-9437-89e9f2c3d77e",
   "metadata": {},
   "outputs": [],
   "source": [
    "# Plot the parabola using plt.plot\n",
    "plt.plot(x, y_parabola)\n",
    "\n",
    "# Show the plot\n",
    "plt.show()\n"
   ]
  },
  {
   "cell_type": "markdown",
   "id": "7491a324-d2b5-4937-a93c-4c6be7f788b4",
   "metadata": {},
   "source": [
    "Our plot needs more points. Let's fix that. We can increase the number of points in our definition of `x` and update our definition of `y_parabola` to make this happen. Let's also plot negative values so that we can see that it is a parabola."
   ]
  },
  {
   "cell_type": "code",
   "execution_count": null,
   "id": "688486a3-cd5d-4453-a4ee-f32fe5cc7d1a",
   "metadata": {},
   "outputs": [],
   "source": [
    "x = np.linspace(-5, 5, 100) # 100 points between -5 and 5\n",
    "y_parabola = parabola(x) # update y_parabola"
   ]
  },
  {
   "cell_type": "markdown",
   "id": "86b2a549-6722-4068-9a70-c100bf7abc9a",
   "metadata": {},
   "source": [
    "Now we can plot this again"
   ]
  },
  {
   "cell_type": "code",
   "execution_count": null,
   "id": "b4009cfd-cd1f-4500-8aa8-0b6b11cc8e8b",
   "metadata": {},
   "outputs": [],
   "source": [
    "# Plot the parabola using plt.plot\n",
    "plt.plot(x, y_parabola)\n",
    "\n",
    "# Show the plot\n",
    "plt.show()\n"
   ]
  },
  {
   "cell_type": "markdown",
   "id": "52c28e5b-bb42-43d1-95c1-5d96c7da0d17",
   "metadata": {},
   "source": [
    "### Step 5: How to Add Axes Labels and a Plot Title\n",
    "\n",
    "To make our plot more proper, we can add labels and a title. Here's how to do it:\n",
    "- `plt.xlabel('X-axis label')`: Adds a label to the x-axis.\n",
    "- `plt.ylabel('Y-axis label')`: Adds a label to the y-axis.\n",
    "- `plt.title('Plot title')`: Adds a title to the plot.\n"
   ]
  },
  {
   "cell_type": "code",
   "execution_count": null,
   "id": "b5921e5b-27b7-46fe-bc95-e110da5880da",
   "metadata": {},
   "outputs": [],
   "source": [
    "# Plot the parabola\n",
    "plt.plot(x, y_parabola)\n",
    "\n",
    "# Add labels and title\n",
    "plt.xlabel('Displacement (arbitrary units)')\n",
    "plt.ylabel('Energy (arbitrary units)')\n",
    "plt.title('Potential Energy of Harmonic Oscillator')\n",
    "\n",
    "# Show the plot\n",
    "plt.show()\n"
   ]
  },
  {
   "cell_type": "markdown",
   "id": "92549f5e-3f4b-4e47-a154-e8c9b6a53a88",
   "metadata": {},
   "source": [
    "### Step 6: How to Change the Color and Style of the Line\n",
    "\n",
    "You can easily change the appearance of the line in your plot using the `plt.plot()` function. Some common customizations include:\n",
    "- **Color**: Set the color of the line using a color string like `'r'` for red, `'g'` for green, or `'b'` for blue.\n",
    "- **Line Style**: Use `'-'` for a solid line, `'--'` for dashed, `'-.'` for dash-dot, or `':'` for dotted.\n",
    "- **Line Width**: Control the thickness of the line with the `linewidth` argument.\n",
    "\n",
    "For example, `plt.plot(x, y, 'r--', linewidth=2)` creates a red, dashed line with a width of 2.\n"
   ]
  },
  {
   "cell_type": "code",
   "execution_count": null,
   "id": "ebe53915-0ad2-40f6-957e-028098d53352",
   "metadata": {},
   "outputs": [],
   "source": [
    "# Plot the parabola with customized line color, style, and width\n",
    "plt.plot(x, y_parabola, color='purple', linestyle='--', linewidth=1)\n",
    "\n",
    "# Add labels and title\n",
    "plt.xlabel('Displacement (arbitrary units)')\n",
    "plt.ylabel('Energy (arbitrary units)')\n",
    "plt.title('Potential Energy of Harmonic Oscillator')\n",
    "\n",
    "# Show the plot\n",
    "plt.show()\n"
   ]
  },
  {
   "cell_type": "markdown",
   "id": "6498e737-c830-43d1-8d21-9d4b313f7a52",
   "metadata": {},
   "source": [
    "### Step 7: How to Add Plot Points and Change Marker Style\n",
    "\n",
    "In addition to plotting lines, you can also display points (markers) on the plot. You can control the marker shape, color, and size using the following options:\n",
    "- **Marker Style**: Use the `marker` argument to change the shape of the points (e.g., `'o'` for circles, `'^'` for triangles, `'*'` for stars, `'.'` for dots).\n",
    "- **Marker Size**: Control the size of the markers using the `markersize` argument.\n",
    "- **Marker Color**: Use the `markerfacecolor` argument to change the fill color of the markers.\n",
    "\n",
    "For example: `plt.plot(x, y, marker='o', markersize=5, markerfacecolor='red')` adds red circular markers.\n"
   ]
  },
  {
   "cell_type": "code",
   "execution_count": null,
   "id": "a2f13e38-b549-421a-89c7-2feae5eb3cb3",
   "metadata": {},
   "outputs": [],
   "source": [
    "# Plot the parabola with markers at each point\n",
    "plt.plot(x, y_parabola,\n",
    "         color=(1,0.5,1), # you can use RGB values for colors\n",
    "         linestyle='-',\n",
    "         linewidth=2,\n",
    "         marker='o',\n",
    "         markersize=5,\n",
    "         markerfacecolor='#06d6fd') # and hexcode values for colors\n",
    "\n",
    "# Add labels and title\n",
    "plt.xlabel('Displacement (arbitrary units)')\n",
    "plt.ylabel('Energy (arbitrary units)')\n",
    "plt.title('Potential Energy of Harmonic Oscillator')\n",
    "\n",
    "# Show the plot\n",
    "plt.show()\n"
   ]
  },
  {
   "cell_type": "markdown",
   "id": "86230308-55f5-4d84-a0dd-ec6e88689637",
   "metadata": {},
   "source": [
    "### Step 8: How to Add and Remove a Grid\n",
    "\n",
    "Adding a grid to your plot can help visualize data more clearly. You can control whether the grid is visible and even customize its appearance:\n",
    "- **`plt.grid(True)`**: Turns the grid on.\n",
    "- **`plt.grid(False)`**: Turns the grid off.\n",
    "- **`plt.grid(color='color', linestyle='style', linewidth=width)`**: Customizes the grid's appearance (e.g., color, line style, width).\n",
    "\n",
    "For example: `plt.grid(True, color='gray', linestyle='--', linewidth=0.5)` adds a light, dashed gray grid.\n"
   ]
  },
  {
   "cell_type": "code",
   "execution_count": null,
   "id": "ba1eba0c-dea2-44d4-8e5e-93038fe6b467",
   "metadata": {},
   "outputs": [],
   "source": [
    "# Plot the parabola with markers and a customized grid\n",
    "plt.plot(x, y_parabola,\n",
    "         color=(1,0.5,1), # you can use RGB values for colors\n",
    "         linestyle='-',\n",
    "         linewidth=2,\n",
    "         marker='o',\n",
    "         markersize=5,\n",
    "         markerfacecolor='#06d6fd') # and hexcode values for colors\n",
    "\n",
    "# Add labels and title\n",
    "plt.xlabel('Displacement (arbitrary units)')\n",
    "plt.ylabel('Energy (arbitrary units)')\n",
    "plt.title('Potential Energy of Harmonic Oscillator')\n",
    "\n",
    "# Add grid\n",
    "plt.grid(True, color='gray', linestyle='--', linewidth=0.5)\n",
    "\n",
    "# Show the plot\n",
    "plt.show()\n"
   ]
  },
  {
   "cell_type": "markdown",
   "id": "1c8bebb7-c95d-4d17-ad36-50ebc57bb178",
   "metadata": {},
   "source": [
    "### Step 9: How to Change the Size of the Plot and Fix the X and Y Range\n",
    "\n",
    "Sometimes, you may want to control the size of your plot or limit the range of the x and y axes:\n",
    "- **Figure Size**: You can change the overall size of the plot by passing a `figsize` argument to `plt.figure()`.\n",
    "- **X and Y Limits**: Use `plt.xlim([xmin, xmax])` and `plt.ylim([ymin, ymax])` to set specific axis limits.\n",
    "- **Axes and Plot Label**: Use the `fontsize` option in `plt.xlabel`, `plt.ylabel`, and `plt.title`. (See code cell below.)\n",
    "- **Axes Ticks**: Use the `fontsize` option in `plt.xlim` and `plt.ylim`. (See code cell below.)\n",
    "\n",
    "For example:\n",
    "- `plt.figure(figsize=(8, 6))`: Creates a plot with a width of 8 inches and a height of 6 inches.\n",
    "- `plt.xlim([0, 5])`: Limits the x-axis range from 0 to 5.\n",
    "- `plt.xlabel('x-label', fontsize=12)` uses 12 pt font for the label.\n",
    "- `plt.xticks(fontsize=10)` uses 10 pt font for the tick mark labels.\n"
   ]
  },
  {
   "cell_type": "code",
   "execution_count": null,
   "id": "cb225f70-4f11-4bea-be7b-519065fbac47",
   "metadata": {},
   "outputs": [],
   "source": [
    "# Create a figure with a specific size\n",
    "plt.figure(figsize=(5, 3))\n",
    "\n",
    "# Plot the parabola with markers and customized grid\n",
    "plt.plot(x, y_parabola,\n",
    "         color=(1,0.5,1), # you can use RGB values for colors\n",
    "         linestyle='-',\n",
    "         linewidth=2,\n",
    "         marker='o',\n",
    "         markersize=5,\n",
    "         markerfacecolor='#06d6fd') # and hexcode values for colors\n",
    "\n",
    "# Add labels and title\n",
    "plt.xlabel('Displacement (arbitrary units)', fontsize=12)\n",
    "plt.ylabel('Energy (arbitrary units)', fontsize=12)\n",
    "plt.title('Potential Energy of Harmonic Oscillator', fontsize=12)\n",
    "\n",
    "# Add grid\n",
    "plt.grid(True, color='gray', linestyle='--', linewidth=0.5)\n",
    "\n",
    "# Set limits for x and y axes\n",
    "plt.xlim([-3, 3])\n",
    "plt.ylim([-1, 10])\n",
    "\n",
    "# Adjust tick mark label font sizes\n",
    "plt.xticks(fontsize=12)\n",
    "plt.yticks(fontsize=12)\n",
    "\n",
    "# Show the plot\n",
    "plt.show()\n"
   ]
  },
  {
   "cell_type": "markdown",
   "id": "99d55f90-bc74-49e8-b8a0-1387c2df7626",
   "metadata": {},
   "source": [
    "### Step 10: How to Plot Multiple Lines Together and Add a Plot Legend\n",
    "\n",
    "Sometimes, you may want to plot more than one function on the same graph. You can do this by calling `plt.plot()` multiple times before calling `plt.show()`.\n",
    "\n",
    "To differentiate between the lines, you can:\n",
    "- **Legend**: Use `plt.legend()` to add a legend.\n",
    "  - When you plot each line, use the `label='Description'` argument to set the label for the line. \n",
    "  - After plotting, call `plt.legend()` to display the legend.\n",
    "\n",
    "For example:\n",
    "- `plt.plot(x, y, label='Line 1')`: Adds a label for the line.\n",
    "- `plt.legend()`: Displays the legend.\n"
   ]
  },
  {
   "cell_type": "code",
   "execution_count": null,
   "id": "0b0f534b-eb27-4d2d-aced-b8f80075eb05",
   "metadata": {},
   "outputs": [],
   "source": [
    "# Define another function (linear function for demonstration)\n",
    "def linear(x):\n",
    "    return - 2 * x\n",
    "\n",
    "# Generate y-values for the linear function\n",
    "y_linear = linear(x)\n",
    "\n",
    "# Create a figure with a specific size\n",
    "# Create a figure with a specific size\n",
    "plt.figure(figsize=(5, 3))\n",
    "\n",
    "# Plot the parabola with markers and customized grid\n",
    "plt.plot(x, y_parabola,\n",
    "         color=(1,0.5,1), # you can use RGB values for colors\n",
    "         linestyle='-',\n",
    "         linewidth=2,\n",
    "         label='Potential Energy')\n",
    "\n",
    "# Plot the linear function\n",
    "plt.plot(x, y_linear, \n",
    "         color='lightblue',\n",
    "         linestyle='-',\n",
    "         linewidth=2,\n",
    "         label='Force')\n",
    "\n",
    "# Add labels and title\n",
    "plt.xlabel('Displacement (arbitrary units)', fontsize=12)\n",
    "plt.ylabel('Energy/Force (arbitrary units)', fontsize=12)\n",
    "plt.title('Potential Energy/Force of Harmonic Oscillator', fontsize=12)\n",
    "\n",
    "# Adjust tick mark label font sizes\n",
    "plt.xticks(fontsize=12)\n",
    "plt.yticks(fontsize=12)\n",
    "\n",
    "# Add a legend to differentiate between the lines\n",
    "plt.legend(fontsize=12)\n",
    "\n",
    "# Add grid\n",
    "plt.grid(True, color='gray', linestyle='--', linewidth=0.5)\n",
    "\n",
    "# Set limits for x and y axes\n",
    "plt.xlim([-3, 3])\n",
    "plt.ylim([-10, 10])\n",
    "\n",
    "# Adjust tick mark label font sizes\n",
    "plt.xticks(fontsize=12)\n",
    "plt.yticks(fontsize=12)\n",
    "\n",
    "# Show the plot\n",
    "plt.show()\n"
   ]
  },
  {
   "cell_type": "markdown",
   "id": "aeab2073-932d-484f-a458-e0f4df4c0f7c",
   "metadata": {},
   "source": [
    "# Step 11: How to Create a Figure with Multiple Panels (Subplots)\n",
    "\n",
    "In many cases, it's useful to have multiple plots in the same figure, each showing different aspects of the data. This is done using **subplots**.\n",
    "\n",
    "Here’s how to create multiple subplots:\n",
    "- **`plt.subplot(rows, cols, index)`**: Divides the figure into a grid of subplots with `rows` rows and `cols` columns. The `index` specifies which subplot to draw on.\n",
    "- **`plt.subplots()`**: Alternatively, `plt.subplots()` can be used to create an entire grid of subplots at once.\n",
    "\n",
    "For example:\n",
    "- `plt.subplot(1, 2, 1)`: Creates a figure with 2 rows and 1 column and activates the first subplot.\n",
    "- `plt.subplot(1, 2, 2)`: Activates the second subplot in the figure.\n"
   ]
  },
  {
   "cell_type": "code",
   "execution_count": 1,
   "id": "1a8fc6d4-1b83-4e1e-88b2-51b1642b19a9",
   "metadata": {},
   "outputs": [
    {
     "ename": "NameError",
     "evalue": "name 'plt' is not defined",
     "output_type": "error",
     "traceback": [
      "\u001b[1;31m---------------------------------------------------------------------------\u001b[0m",
      "\u001b[1;31mNameError\u001b[0m                                 Traceback (most recent call last)",
      "Cell \u001b[1;32mIn[1], line 2\u001b[0m\n\u001b[0;32m      1\u001b[0m \u001b[38;5;66;03m# Create a figure with multiple subplots (2 rows, 1 column)\u001b[39;00m\n\u001b[1;32m----> 2\u001b[0m \u001b[43mplt\u001b[49m\u001b[38;5;241m.\u001b[39mfigure(figsize\u001b[38;5;241m=\u001b[39m(\u001b[38;5;241m8\u001b[39m, \u001b[38;5;241m3\u001b[39m))\n\u001b[0;32m      4\u001b[0m \u001b[38;5;66;03m# First subplot: Potential Energy (Parabola)\u001b[39;00m\n\u001b[0;32m      5\u001b[0m plt\u001b[38;5;241m.\u001b[39msubplot(\u001b[38;5;241m1\u001b[39m, \u001b[38;5;241m2\u001b[39m, \u001b[38;5;241m1\u001b[39m)  \u001b[38;5;66;03m# 2 rows, 1 column, first plot\u001b[39;00m\n",
      "\u001b[1;31mNameError\u001b[0m: name 'plt' is not defined"
     ]
    }
   ],
   "source": [
    "# Create a figure with multiple subplots (2 rows, 1 column)\n",
    "plt.figure(figsize=(8, 3))\n",
    "\n",
    "# First subplot: Potential Energy (Parabola)\n",
    "plt.subplot(1, 2, 1)  # 2 rows, 1 column, first plot\n",
    "plt.plot(x, y_parabola, color=(1, 0.5, 1), linestyle='-', linewidth=2, label='Potential Energy')\n",
    "plt.xlabel('Displacement (arbitrary units)', fontsize=12)\n",
    "plt.ylabel('Energy (arbitrary units)', fontsize=12)\n",
    "plt.title('Potential Energy of Harmonic Oscillator', fontsize=12)\n",
    "plt.grid(True, color='gray', linestyle='--', linewidth=0.5)\n",
    "plt.legend(fontsize=12)\n",
    "plt.xlim([-3, 3])\n",
    "plt.ylim([-10, 10])\n",
    "plt.xticks(fontsize=12)\n",
    "plt.yticks(fontsize=12)\n",
    "\n",
    "# Second subplot: Force (Linear)\n",
    "plt.subplot(1, 2, 2)  # 2 rows, 1 column, second plot\n",
    "plt.plot(x, y_linear, color='lightblue', linestyle='-', linewidth=2, label='Force')\n",
    "plt.xlabel('Displacement (arbitrary units)', fontsize=12)\n",
    "plt.ylabel('Force (arbitrary units)', fontsize=12)\n",
    "plt.title('Force of Harmonic Oscillator', fontsize=12)\n",
    "plt.grid(True, color='gray', linestyle='--', linewidth=0.5)\n",
    "plt.legend(fontsize=12)\n",
    "plt.xlim([-3, 3])\n",
    "plt.ylim([-10, 10])\n",
    "plt.xticks(fontsize=12)\n",
    "plt.yticks(fontsize=12)\n",
    "\n",
    "# Adjust layout to prevent overlap\n",
    "plt.tight_layout()\n",
    "\n",
    "# Show the plot\n",
    "plt.show()\n"
   ]
  },
  {
   "cell_type": "markdown",
   "id": "565f6a41-a9d6-4297-a931-3280c9b71203",
   "metadata": {},
   "source": [
    "### Step 12: Build a Complete Function for Plotting\n",
    "\n",
    "Now that we’ve learned how to create and customize plots, let’s wrap it all into a reusable function. This function will allow you to plot multiple lines with custom labels, styles, axis limits, and subplots.\n",
    "\n",
    "You can call this function with different datasets and parameters to easily generate new plots.\n"
   ]
  },
  {
   "cell_type": "code",
   "execution_count": null,
   "id": "f6f8e2de-e1b5-4979-85c8-ec2b52ea823e",
   "metadata": {},
   "outputs": [],
   "source": [
    "def plot_oscillator(x, y1, y2, y1_label='Potential Energy', y2_label='Force', \n",
    "                    x_label='Displacement (arbitrary units)', \n",
    "                    y1_title='Potential Energy of Harmonic Oscillator', \n",
    "                    y2_title='Force of Harmonic Oscillator', \n",
    "                    y_label='Energy/Force (arbitrary units)',\n",
    "                    xlim=(-3, 3), ylim=(-10, 10)):\n",
    "    \"\"\"\n",
    "    This function creates a figure with two subplots: one for the potential energy and one for the force\n",
    "    of a harmonic oscillator.\n",
    "    \n",
    "    Parameters:\n",
    "    - x: X-values (numpy array or list)\n",
    "    - y1: Y-values for the first plot (e.g., potential energy)\n",
    "    - y2: Y-values for the second plot (e.g., force)\n",
    "    - y1_label: Label for the first plot's line (default: 'Potential Energy')\n",
    "    - y2_label: Label for the second plot's line (default: 'Force')\n",
    "    - x_label: Label for the x-axis (default: 'Displacement (arbitrary units)')\n",
    "    - y1_title: Title for the first plot (default: 'Potential Energy of Harmonic Oscillator')\n",
    "    - y2_title: Title for the second plot (default: 'Force of Harmonic Oscillator')\n",
    "    - y_label: Label for the y-axis (default: 'Energy/Force (arbitrary units)')\n",
    "    - xlim: X-axis limits (default: (-3, 3))\n",
    "    - ylim: Y-axis limits (default: (-10, 10))\n",
    "    \"\"\"\n",
    "    \n",
    "    # Create a figure with subplots\n",
    "    plt.figure(figsize=(8, 3))\n",
    "\n",
    "    # First subplot: y1 (e.g., Potential Energy)\n",
    "    plt.subplot(1, 2, 1)\n",
    "    plt.plot(x, y1, color=(1, 0.5, 1), linestyle='-', linewidth=2, label=y1_label)\n",
    "    plt.xlabel(x_label, fontsize=12)\n",
    "    plt.ylabel(y_label, fontsize=12)\n",
    "    plt.title(y1_title, fontsize=12)\n",
    "    plt.grid(True, color='gray', linestyle='--', linewidth=0.5)\n",
    "    plt.legend(fontsize=12)\n",
    "    plt.xlim(xlim)\n",
    "    plt.ylim(ylim)\n",
    "    plt.xticks(fontsize=12)\n",
    "    plt.yticks(fontsize=12)\n",
    "\n",
    "    # Second subplot: y2 (e.g., Force)\n",
    "    plt.subplot(1, 2, 2)\n",
    "    plt.plot(x, y2, color='lightblue', linestyle='-', linewidth=2, label=y2_label)\n",
    "    plt.xlabel(x_label, fontsize=12)\n",
    "    plt.ylabel(y_label, fontsize=12)\n",
    "    plt.title(y2_title, fontsize=12)\n",
    "    plt.grid(True, color='gray', linestyle='--', linewidth=0.5)\n",
    "    plt.legend(fontsize=12)\n",
    "    plt.xlim(xlim)\n",
    "    plt.ylim(ylim)\n",
    "    plt.xticks(fontsize=12)\n",
    "    plt.yticks(fontsize=12)\n",
    "\n",
    "    # Adjust layout and show the plot\n",
    "    plt.tight_layout()\n",
    "    plt.show()\n"
   ]
  },
  {
   "cell_type": "markdown",
   "id": "d525596a-6717-4bf0-b38c-d8f506666343",
   "metadata": {},
   "source": [
    "Let's make some adjustments not that this function is written."
   ]
  },
  {
   "cell_type": "code",
   "execution_count": null,
   "id": "2498a202-d854-447a-ada5-b96725249ad9",
   "metadata": {},
   "outputs": [],
   "source": [
    "# Example: Using the function to plot the oscillator with different spring constants\n",
    "# U = 0.5 k*x**2; F = -k*x\n",
    "k = 3 # the spring constant\n",
    "\n",
    "plot_oscillator(x, k*x**2, -k*x)"
   ]
  },
  {
   "cell_type": "markdown",
   "id": "2eaa229e-b0c1-4e4c-934f-5de185565ed9",
   "metadata": {},
   "source": [
    "We can check the options by reading the `docstring`.\n",
    "\n",
    "You can access this as follows:\n",
    "- `help(plot_oscillator)` or,\n",
    "- `print(plot_oscillator.__docstring__)`"
   ]
  },
  {
   "cell_type": "code",
   "execution_count": null,
   "id": "788cf278-16b1-43c8-87e6-29c3acf3fa53",
   "metadata": {},
   "outputs": [],
   "source": [
    "help(plot_oscillator)"
   ]
  },
  {
   "cell_type": "markdown",
   "id": "8e9f394e-2175-4d0f-bb6d-94d522fa829e",
   "metadata": {},
   "source": [
    "We can now change these options by reassigning certain parameters. Here is an example where I remove the plot titles and change the `x` and `y` ranges plotted:"
   ]
  },
  {
   "cell_type": "code",
   "execution_count": null,
   "id": "6992cb07-5ef0-4bde-9fe8-d71abbf3e078",
   "metadata": {},
   "outputs": [],
   "source": [
    "plot_oscillator(x, k*x**2, -k*x, y1_title=None, y2_title=None, xlim=[-1,1], ylim=[-3,3])"
   ]
  },
  {
   "cell_type": "markdown",
   "id": "fa59d71d-0d66-4c21-85d2-bd6a27decdc2",
   "metadata": {},
   "source": [
    "### Summary of the Notebook: Plotting with Matplotlib\n",
    "\n",
    "In this notebook, we explored the fundamentals of 2D plotting using `matplotlib` and `numpy` in Python. The key steps and features covered include:\n",
    "\n",
    "1. **Importing Libraries**: \n",
    "   We began by importing the necessary libraries, `matplotlib.pyplot` for plotting and `numpy` for numerical operations.\n",
    "\n",
    "2. **Generating Data with `np.linspace`**: \n",
    "   We used `np.linspace` to generate a set of evenly spaced x-values, which we used for plotting mathematical functions.\n",
    "\n",
    "3. **Defining Functions**: \n",
    "   We defined two functions, a quadratic (parabola) function and a linear function, which were used to generate y-values for our plots:\n",
    "   - Quadratic: \\( y = x^2 \\)\n",
    "   - Linear: \\( y = -2x \\)\n",
    "\n",
    "4. **Creating and Customizing Plots**:\n",
    "   - We created a basic plot using `plt.plot()`.\n",
    "   - Labels were added for the x and y axes, along with a title for the plot.\n",
    "   - The appearance of the plot was customized, including the use of different line colors, line styles, and marker types.\n",
    "   - We also added a grid to the plot for better readability.\n",
    "\n",
    "5. **Multiple Plots and Legends**: \n",
    "   We plotted both the quadratic and linear functions on the same graph, using different colors and line styles to differentiate them. A legend was added to explain the lines.\n",
    "\n",
    "6. **Adjusting Plot Properties**:\n",
    "   - The size of the plot was adjusted using `figsize`.\n",
    "   - Axis limits were set for both the x and y axes using `plt.xlim()` and `plt.ylim()`.\n",
    "\n",
    "7. **Subplots**: \n",
    "   We created multiple subplots to display the quadratic and linear functions side by side. Subplots were organized in a 2x1 grid, each with its own title, labels, and grid.\n",
    "\n",
    "8. **Reusable Function for Plotting**: \n",
    "   A reusable function, `plot_oscillator()`, was created to streamline the plotting process. This function can be used to easily generate multiple plots with customizable labels, titles, line styles, and axis limits.\n"
   ]
  },
  {
   "cell_type": "markdown",
   "id": "d112d087-f4a7-4bcc-93aa-9c89df921d33",
   "metadata": {},
   "source": [
    "### ☆ My Plotting with Matplotlib"
   ]
  },
  {
   "cell_type": "code",
   "execution_count": 9,
   "id": "1563ffaa-e3f7-40f5-8d5b-e8cf0d1cb1fb",
   "metadata": {
    "collapsed": true,
    "jupyter": {
     "outputs_hidden": true
    }
   },
   "outputs": [
    {
     "name": "stdout",
     "output_type": "stream",
     "text": [
      "[[-2.00000000e+01  8.00000000e+02]\n",
      " [-1.95959596e+01  7.68003265e+02]\n",
      " [-1.91919192e+01  7.36659525e+02]\n",
      " [-1.87878788e+01  7.05968779e+02]\n",
      " [-1.83838384e+01  6.75931027e+02]\n",
      " [-1.79797980e+01  6.46546271e+02]\n",
      " [-1.75757576e+01  6.17814509e+02]\n",
      " [-1.71717172e+01  5.89735741e+02]\n",
      " [-1.67676768e+01  5.62309968e+02]\n",
      " [-1.63636364e+01  5.35537190e+02]\n",
      " [-1.59595960e+01  5.09417406e+02]\n",
      " [-1.55555556e+01  4.83950617e+02]\n",
      " [-1.51515152e+01  4.59136823e+02]\n",
      " [-1.47474747e+01  4.34976023e+02]\n",
      " [-1.43434343e+01  4.11468218e+02]\n",
      " [-1.39393939e+01  3.88613407e+02]\n",
      " [-1.35353535e+01  3.66411591e+02]\n",
      " [-1.31313131e+01  3.44862769e+02]\n",
      " [-1.27272727e+01  3.23966942e+02]\n",
      " [-1.23232323e+01  3.03724110e+02]\n",
      " [-1.19191919e+01  2.84134272e+02]\n",
      " [-1.15151515e+01  2.65197429e+02]\n",
      " [-1.11111111e+01  2.46913580e+02]\n",
      " [-1.07070707e+01  2.29282726e+02]\n",
      " [-1.03030303e+01  2.12304867e+02]\n",
      " [-9.89898990e+00  1.95980002e+02]\n",
      " [-9.49494949e+00  1.80308132e+02]\n",
      " [-9.09090909e+00  1.65289256e+02]\n",
      " [-8.68686869e+00  1.50923375e+02]\n",
      " [-8.28282828e+00  1.37210489e+02]\n",
      " [-7.87878788e+00  1.24150597e+02]\n",
      " [-7.47474747e+00  1.11743700e+02]\n",
      " [-7.07070707e+00  9.99897970e+01]\n",
      " [-6.66666667e+00  8.88888889e+01]\n",
      " [-6.26262626e+00  7.84409754e+01]\n",
      " [-5.85858586e+00  6.86460565e+01]\n",
      " [-5.45454545e+00  5.95041322e+01]\n",
      " [-5.05050505e+00  5.10152025e+01]\n",
      " [-4.64646465e+00  4.31792674e+01]\n",
      " [-4.24242424e+00  3.59963269e+01]\n",
      " [-3.83838384e+00  2.94663810e+01]\n",
      " [-3.43434343e+00  2.35894297e+01]\n",
      " [-3.03030303e+00  1.83654729e+01]\n",
      " [-2.62626263e+00  1.37945108e+01]\n",
      " [-2.22222222e+00  9.87654321e+00]\n",
      " [-1.81818182e+00  6.61157025e+00]\n",
      " [-1.41414141e+00  3.99959188e+00]\n",
      " [-1.01010101e+00  2.04060810e+00]\n",
      " [-6.06060606e-01  7.34618916e-01]\n",
      " [-2.02020202e-01  8.16243240e-02]\n",
      " [ 2.02020202e-01  8.16243240e-02]\n",
      " [ 6.06060606e-01  7.34618916e-01]\n",
      " [ 1.01010101e+00  2.04060810e+00]\n",
      " [ 1.41414141e+00  3.99959188e+00]\n",
      " [ 1.81818182e+00  6.61157025e+00]\n",
      " [ 2.22222222e+00  9.87654321e+00]\n",
      " [ 2.62626263e+00  1.37945108e+01]\n",
      " [ 3.03030303e+00  1.83654729e+01]\n",
      " [ 3.43434343e+00  2.35894297e+01]\n",
      " [ 3.83838384e+00  2.94663810e+01]\n",
      " [ 4.24242424e+00  3.59963269e+01]\n",
      " [ 4.64646465e+00  4.31792674e+01]\n",
      " [ 5.05050505e+00  5.10152025e+01]\n",
      " [ 5.45454545e+00  5.95041322e+01]\n",
      " [ 5.85858586e+00  6.86460565e+01]\n",
      " [ 6.26262626e+00  7.84409754e+01]\n",
      " [ 6.66666667e+00  8.88888889e+01]\n",
      " [ 7.07070707e+00  9.99897970e+01]\n",
      " [ 7.47474747e+00  1.11743700e+02]\n",
      " [ 7.87878788e+00  1.24150597e+02]\n",
      " [ 8.28282828e+00  1.37210489e+02]\n",
      " [ 8.68686869e+00  1.50923375e+02]\n",
      " [ 9.09090909e+00  1.65289256e+02]\n",
      " [ 9.49494949e+00  1.80308132e+02]\n",
      " [ 9.89898990e+00  1.95980002e+02]\n",
      " [ 1.03030303e+01  2.12304867e+02]\n",
      " [ 1.07070707e+01  2.29282726e+02]\n",
      " [ 1.11111111e+01  2.46913580e+02]\n",
      " [ 1.15151515e+01  2.65197429e+02]\n",
      " [ 1.19191919e+01  2.84134272e+02]\n",
      " [ 1.23232323e+01  3.03724110e+02]\n",
      " [ 1.27272727e+01  3.23966942e+02]\n",
      " [ 1.31313131e+01  3.44862769e+02]\n",
      " [ 1.35353535e+01  3.66411591e+02]\n",
      " [ 1.39393939e+01  3.88613407e+02]\n",
      " [ 1.43434343e+01  4.11468218e+02]\n",
      " [ 1.47474747e+01  4.34976023e+02]\n",
      " [ 1.51515152e+01  4.59136823e+02]\n",
      " [ 1.55555556e+01  4.83950617e+02]\n",
      " [ 1.59595960e+01  5.09417406e+02]\n",
      " [ 1.63636364e+01  5.35537190e+02]\n",
      " [ 1.67676768e+01  5.62309968e+02]\n",
      " [ 1.71717172e+01  5.89735741e+02]\n",
      " [ 1.75757576e+01  6.17814509e+02]\n",
      " [ 1.79797980e+01  6.46546271e+02]\n",
      " [ 1.83838384e+01  6.75931027e+02]\n",
      " [ 1.87878788e+01  7.05968779e+02]\n",
      " [ 1.91919192e+01  7.36659525e+02]\n",
      " [ 1.95959596e+01  7.68003265e+02]\n",
      " [ 2.00000000e+01  8.00000000e+02]]\n"
     ]
    }
   ],
   "source": [
    "# Importing matplotlib and numpy\n",
    "import matplotlib.pyplot as plt\n",
    "import numpy as np\n",
    "\n",
    "# Choosing style\n",
    "plt.style.use('seaborn-v0_8-pastel')\n",
    "\n",
    "# Generating a set of x values using np.linspace\n",
    "x = np.linspace(-20, 20, 100)\n",
    "\n",
    "# Defining a parabola function\n",
    "def parabola(x):\n",
    "    return 2*(x**2)\n",
    "\n",
    "# Generating y values for the parabola with given x values\n",
    "y_parabola = parabola(x)\n",
    "\n",
    "# Printing parabola values\n",
    "print(np.transpose([x,y_parabola]))"
   ]
  },
  {
   "cell_type": "code",
   "execution_count": 10,
   "id": "85721338-a33a-44ec-b63f-ec448f429a1d",
   "metadata": {},
   "outputs": [
    {
     "data": {
      "image/png": "[encoded data removed]",
      "text/plain": [
       "<Figure size 640x480 with 1 Axes>"
      ]
     },
     "metadata": {},
     "output_type": "display_data"
    }
   ],
   "source": [
    "# Plotting the parabola using plt.plot\n",
    "plt.plot(x, y_parabola,\n",
    "         color='green',\n",
    "         linestyle='--',\n",
    "         linewidth=1,\n",
    "         marker='o',\n",
    "         markersize=5,\n",
    "         markerfacecolor='brown')\n",
    "\n",
    "# Adding plot elements\n",
    "plt.xlabel('Displacement (meters)')\n",
    "plt.ylabel('Energy (Joules)')\n",
    "plt.xticks(fontsize=12)\n",
    "plt.yticks(fontsize=12)\n",
    "plt.xlim([-5, 5])\n",
    "plt.ylim([-1, 10])\n",
    "plt.title('Potential Energy of Harmonic Oscillator')\n",
    "plt.grid(True, color='brown', linestyle='--', linewidth=0.2)\n",
    "\n",
    "# Showing the plot\n",
    "plt.show()"
   ]
  },
  {
   "cell_type": "code",
   "execution_count": 25,
   "id": "5053c3fb-a9c0-4096-8407-76833e2c2e9d",
   "metadata": {},
   "outputs": [
    {
     "data": {
      "image/png": "[encoded data removed]",
      "text/plain": [
       "<Figure size 400x400 with 1 Axes>"
      ]
     },
     "metadata": {},
     "output_type": "display_data"
    }
   ],
   "source": [
    "# Defining another function\n",
    "def linear(x):\n",
    "    return - 2 * x\n",
    "\n",
    "# Generating y values for the linear function\n",
    "y_linear = linear(x)\n",
    "\n",
    "# Formatting figure size\n",
    "plt.figure(figsize=(4, 4))\n",
    "\n",
    "# Plotting the parabola again\n",
    "plt.plot(x, y_parabola,\n",
    "         color='darkgreen',\n",
    "         linestyle='--',\n",
    "         linewidth=1,\n",
    "         label='Potential Energy',\n",
    "         marker='o',\n",
    "         markersize=5,\n",
    "         markerfacecolor='brown')\n",
    "\n",
    "# Plotting the linear function\n",
    "plt.plot(x, y_linear,\n",
    "         color='lightgreen',\n",
    "         linestyle='-',\n",
    "         linewidth=1,\n",
    "         label='Force')\n",
    "\n",
    "# Adding plot elements\n",
    "plt.xlabel('Displacement (meters)')\n",
    "plt.ylabel('Energy (Joules)')\n",
    "plt.xticks(fontsize=12)\n",
    "plt.yticks(fontsize=12)\n",
    "plt.xlim([-5, 5])\n",
    "plt.ylim([-5, 15])\n",
    "plt.title('Potential Energy/Force of Harmonic Oscillator')\n",
    "plt.legend(fontsize=12)\n",
    "plt.grid(True, color='brown', linestyle='--', linewidth=0.2)\n",
    "\n",
    "# Showing the plot\n",
    "plt.show()"
   ]
  },
  {
   "cell_type": "code",
   "execution_count": 18,
   "id": "3cc5511f-5731-41a1-8580-825a358385ea",
   "metadata": {},
   "outputs": [
    {
     "data": {
      "image/png": "[encoded data removed]",
      "text/plain": [
       "<Figure size 1000x500 with 2 Axes>"
      ]
     },
     "metadata": {},
     "output_type": "display_data"
    }
   ],
   "source": [
    "# Creating a figure with multiple subplots (2 rows, 1 column)\n",
    "plt.figure(figsize=(10,5))\n",
    "plt.tight_layout()\n",
    "\n",
    "# First subplot - Potential energy parabola\n",
    "plt.subplot(1, 2, 1)\n",
    "plt.plot(x, y_parabola,\n",
    "         color='darkgreen',\n",
    "         linestyle='--',\n",
    "         linewidth=1,\n",
    "         label='Potential Energy',\n",
    "         marker='o',\n",
    "         markersize=5,\n",
    "         markerfacecolor='brown')\n",
    "plt.xlabel('Displacement (meters)')\n",
    "plt.ylabel('Energy (Joules)')\n",
    "plt.xticks(fontsize=12)\n",
    "plt.yticks(fontsize=12)\n",
    "plt.xlim([-5, 5])\n",
    "plt.ylim([-5, 15])\n",
    "plt.title('Potential Energy of Harmonic Oscillator')\n",
    "plt.legend(fontsize=12)\n",
    "plt.grid(True, color='brown', linestyle='--', linewidth=0.2)\n",
    "\n",
    "# Second subplot - Force line\n",
    "plt.subplot(1, 2, 2)\n",
    "plt.plot(x, y_linear,\n",
    "         color='lightgreen',\n",
    "         linestyle='-',\n",
    "         linewidth=1,\n",
    "         label='Force')\n",
    "plt.xlabel('Displacement (meters)')\n",
    "plt.ylabel('Energy (Joules)')\n",
    "plt.xticks(fontsize=12)\n",
    "plt.yticks(fontsize=12)\n",
    "plt.xlim([-5, 5])\n",
    "plt.ylim([-5, 15])\n",
    "plt.title('Force of Harmonic Oscillator')\n",
    "plt.legend(fontsize=12)\n",
    "plt.grid(True, color='brown', linestyle='--', linewidth=0.2)\n",
    "\n",
    "# Showing the plot\n",
    "plt.show()"
   ]
  },
  {
   "cell_type": "code",
   "execution_count": 5,
   "id": "56de09bd-7762-430d-9e64-c79b99f3c8dd",
   "metadata": {},
   "outputs": [
    {
     "ename": "NameError",
     "evalue": "name 'x' is not defined",
     "output_type": "error",
     "traceback": [
      "\u001b[1;31m---------------------------------------------------------------------------\u001b[0m",
      "\u001b[1;31mNameError\u001b[0m                                 Traceback (most recent call last)",
      "Cell \u001b[1;32mIn[5], line 55\u001b[0m\n\u001b[0;32m     52\u001b[0m     \u001b[38;5;66;03m# Showing the plot\u001b[39;00m\n\u001b[0;32m     53\u001b[0m     plt\u001b[38;5;241m.\u001b[39mshow()\n\u001b[1;32m---> 55\u001b[0m plot_oscillator(\u001b[43mx\u001b[49m, y1, y2, y1_label\u001b[38;5;241m=\u001b[39m\u001b[38;5;124m'\u001b[39m\u001b[38;5;124mPotential Energy\u001b[39m\u001b[38;5;124m'\u001b[39m, y2_label\u001b[38;5;241m=\u001b[39m\u001b[38;5;124m'\u001b[39m\u001b[38;5;124mForce\u001b[39m\u001b[38;5;124m'\u001b[39m, \n\u001b[0;32m     56\u001b[0m                     x_label\u001b[38;5;241m=\u001b[39m\u001b[38;5;124m'\u001b[39m\u001b[38;5;124mDisplacement (meters)\u001b[39m\u001b[38;5;124m'\u001b[39m, \n\u001b[0;32m     57\u001b[0m                     y1_title\u001b[38;5;241m=\u001b[39m\u001b[38;5;124m'\u001b[39m\u001b[38;5;124mPotential Energy of Harmonic Oscillator\u001b[39m\u001b[38;5;124m'\u001b[39m, \n\u001b[0;32m     58\u001b[0m                     y2_title\u001b[38;5;241m=\u001b[39m\u001b[38;5;124m'\u001b[39m\u001b[38;5;124mForce of Harmonic Oscillator\u001b[39m\u001b[38;5;124m'\u001b[39m, \n\u001b[0;32m     59\u001b[0m                     y_label\u001b[38;5;241m=\u001b[39m\u001b[38;5;124m'\u001b[39m\u001b[38;5;124mEnergy/Force (Joules/Newtons)\u001b[39m\u001b[38;5;124m'\u001b[39m,\n\u001b[0;32m     60\u001b[0m                     xlim\u001b[38;5;241m=\u001b[39m(\u001b[38;5;241m-\u001b[39m\u001b[38;5;241m5\u001b[39m, \u001b[38;5;241m5\u001b[39m), ylim\u001b[38;5;241m=\u001b[39m(\u001b[38;5;241m-\u001b[39m\u001b[38;5;241m5\u001b[39m, \u001b[38;5;241m15\u001b[39m))\n",
      "\u001b[1;31mNameError\u001b[0m: name 'x' is not defined"
     ]
    }
   ],
   "source": [
    "# Defining oscillation function\n",
    "def plot_oscillator(x, y1, y2, y1_label='Potential Energy', y2_label='Force', \n",
    "                    x_label='Displacement (meters)', \n",
    "                    y1_title='Potential Energy of Harmonic Oscillator', \n",
    "                    y2_title='Force of Harmonic Oscillator', \n",
    "                    y_label='Energy/Force (Joules/Newtons)',\n",
    "                    xlim=(-5, 5), ylim=(-5, 15)):\n",
    "    \n",
    "    # Creating the figure\n",
    "    plt.figure(figsize=(10,5))\n",
    "    plt.tight_layout()\n",
    "\n",
    "    # First subplot - y1 (Potential energy parabola)\n",
    "    plt.subplot(1, 2, 1)\n",
    "    plt.plot(x, y1,\n",
    "             color='darkgreen',\n",
    "             linestyle='--',\n",
    "             linewidth=1,\n",
    "             label=y1_label,\n",
    "             marker='o',\n",
    "             markersize=5,\n",
    "             markerfacecolor='brown')\n",
    "    plt.xlabel(x_label, fontsize=12)\n",
    "    plt.ylabel(y_label, fontsize=12)\n",
    "    plt.xticks(fontsize=12)\n",
    "    plt.yticks(fontsize=12)\n",
    "    plt.xlim(xlim)\n",
    "    plt.ylim(ylim)\n",
    "    plt.title(y1_title, fontsize=12)\n",
    "    plt.legend(fontsize=12)\n",
    "    plt.grid(True, color='brown', linestyle='--', linewidth=0.2)\n",
    "    \n",
    "    # Second subplot - y2 (Force line)\n",
    "    plt.subplot(1, 2, 2)\n",
    "    plt.plot(x, y2,\n",
    "             color='lightgreen',\n",
    "             linestyle='-',\n",
    "             linewidth=1,\n",
    "             label=y2_label)\n",
    "    plt.xlabel(x_label, fontsize=12)\n",
    "    plt.ylabel(y_label, fontsize=12)\n",
    "    plt.xticks(fontsize=12)\n",
    "    plt.yticks(fontsize=12)\n",
    "    plt.xlim(xlim)\n",
    "    plt.ylim(ylim)\n",
    "    plt.title(y2_title, fontsize=12)\n",
    "    plt.legend(fontsize=12)\n",
    "    plt.grid(True, color='brown', linestyle='--', linewidth=0.2)\n",
    "    \n",
    "    # Showing the plot\n",
    "    plt.show()\n",
    "\n",
    "plot_oscillator(x, y1, y2, y1_label='Potential Energy', y2_label='Force', \n",
    "                    x_label='Displacement (meters)', \n",
    "                    y1_title='Potential Energy of Harmonic Oscillator', \n",
    "                    y2_title='Force of Harmonic Oscillator', \n",
    "                    y_label='Energy/Force (Joules/Newtons)',\n",
    "                    xlim=(-5, 5), ylim=(-5, 15))"
   ]
  },
  {
   "cell_type": "code",
   "execution_count": null,
   "id": "a98b8ea5-f765-41a9-812a-c3efd712dc51",
   "metadata": {},
   "outputs": [],
   "source": []
  }
 ],
 "metadata": {
  "kernelspec": {
   "display_name": "Python 3 (ipykernel)",
   "language": "python",
   "name": "python3"
  },
  "language_info": {
   "codemirror_mode": {
    "name": "ipython",
    "version": 3
   },
   "file_extension": ".py",
   "mimetype": "text/x-python",
   "name": "python",
   "nbconvert_exporter": "python",
   "pygments_lexer": "ipython3",
   "version": "3.9.19"
  }
 },
 "nbformat": 4,
 "nbformat_minor": 5
}
